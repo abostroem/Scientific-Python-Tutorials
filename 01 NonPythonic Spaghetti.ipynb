{
 "cells": [
  {
   "cell_type": "markdown",
   "metadata": {},
   "source": [
    "In this notebook we will be writing our first CA simulator code, which we will subsequently build off of to demonstrate various aspects of scientific programming in Python. The code here will use no abstraction through functions or classes, and will not use any numpy. We will try our best though to follow the PEP8 style guide and make this code as readable as we can. \n",
    "\n",
    "Below we use the jupyter notebook as a development workspace, where we can try various approaches and run small tests to make sure code we write is doing what we want it to do. At the end we will collect all the pieces and put them in a single cell which will act as our code base script. Executing that cell will produce and plot a spacetime field of a given shape using the given ECA rule number.\n",
    "\n",
    "**Note that I am using Python 2.7. I know a lot of people are using Python 3, so I will try to make print statements the only thing that needs to be changed for those using Python 3. The main difference otherwise will be the use of range and zip. Python 3 uses iterator versions of these by default. To use the iterator versions in Python 2.7 (which you should), use xrange instead of range and izip instead of zip (izip needs to be imported from itertools).**"
   ]
  },
  {
   "cell_type": "markdown",
   "metadata": {},
   "source": [
    "First thing is to import all packages we will be using, which here is just the random package for random initial conditions and matplotlib to plot spacetime fields"
   ]
  },
  {
   "cell_type": "code",
   "execution_count": 1,
   "metadata": {
    "ExecuteTime": {
     "end_time": "2017-08-01T17:13:05.990435",
     "start_time": "2017-08-01T17:13:05.430320"
    },
    "collapsed": true
   },
   "outputs": [],
   "source": [
    "import random\n",
    "from matplotlib import pyplot as plt\n",
    "%matplotlib inline"
   ]
  },
  {
   "cell_type": "markdown",
   "metadata": {},
   "source": [
    "A CA spacetime field is uniquely determined by the initial condition, the update rule (i.e. the lookup table), the number of time steps the update rule is applied, and the boundary conditions. \n",
    "\n",
    "We will only use periodic boundary conditions so the three pieces we need for the simulator are an initial condition, an update time, and the lookup table. "
   ]
  },
  {
   "cell_type": "markdown",
   "metadata": {},
   "source": [
    "Let's start by producing a random binary string of a given length for our initial condition."
   ]
  },
  {
   "cell_type": "code",
   "execution_count": 2,
   "metadata": {
    "ExecuteTime": {
     "end_time": "2017-08-01T15:39:36.982386",
     "start_time": "2017-08-01T15:39:36.979648"
    },
    "collapsed": true
   },
   "outputs": [],
   "source": [
    "length = 20"
   ]
  },
  {
   "cell_type": "markdown",
   "metadata": {},
   "source": [
    "There are several ways to create our initial condition without using numpy."
   ]
  },
  {
   "cell_type": "code",
   "execution_count": 3,
   "metadata": {
    "ExecuteTime": {
     "end_time": "2017-08-01T15:39:37.903647",
     "start_time": "2017-08-01T15:39:37.897682"
    }
   },
   "outputs": [
    {
     "name": "stdout",
     "output_type": "stream",
     "text": [
      "[1, 1, 0, 0, 1, 1, 1, 1, 1, 1, 1, 1, 0, 0, 1, 1, 1, 0, 1, 1]\n"
     ]
    }
   ],
   "source": [
    "# first, let's create an empty list and then build it up with random samples of (0,1)\n",
    "initial_condition_1 = []\n",
    "for i in range(length):\n",
    "    initial_condition_1.append(random.randint(0,1))\n",
    "print initial_condition_1"
   ]
  },
  {
   "cell_type": "markdown",
   "metadata": {},
   "source": [
    "The above is intuitive, but since it has to dynamically allocate memory space to the initial condition list as it grows it is not as efficient as it could be (it doesn't really make much of a difference for such a small array). "
   ]
  },
  {
   "cell_type": "code",
   "execution_count": 4,
   "metadata": {
    "ExecuteTime": {
     "end_time": "2017-08-01T15:39:38.813525",
     "start_time": "2017-08-01T15:39:38.808292"
    }
   },
   "outputs": [
    {
     "name": "stdout",
     "output_type": "stream",
     "text": [
      "[0, 1, 1, 0, 0, 0, 0, 0, 1, 0, 0, 1, 0, 0, 0, 0, 1, 1, 0, 1]\n"
     ]
    }
   ],
   "source": [
    "# next then, we can create a list of the given length, then populate it with random samples as so. \n",
    "initial_condition_2 = [0] * length \n",
    "for i in range(length):\n",
    "    initial_condition_2[i] = random.randint(0,1)\n",
    "print initial_condition_2"
   ]
  },
  {
   "cell_type": "code",
   "execution_count": 5,
   "metadata": {
    "ExecuteTime": {
     "end_time": "2017-08-01T15:39:39.278343",
     "start_time": "2017-08-01T15:39:39.273338"
    }
   },
   "outputs": [
    {
     "name": "stdout",
     "output_type": "stream",
     "text": [
      "[1, 0, 1, 0, 0, 1, 0, 0, 0, 0, 0, 0, 0, 0, 0, 1, 0, 1, 0, 1]\n"
     ]
    }
   ],
   "source": [
    "# The more Pythonic way to do this is by using a list comprehension\n",
    "initial_condition_3 = [random.randint(0,1) for _ in range(length)]\n",
    "print initial_condition_3"
   ]
  },
  {
   "cell_type": "markdown",
   "metadata": {},
   "source": [
    "Create a variable for how many time steps to evolve our CA. "
   ]
  },
  {
   "cell_type": "code",
   "execution_count": 6,
   "metadata": {
    "ExecuteTime": {
     "end_time": "2017-08-01T15:39:40.084181",
     "start_time": "2017-08-01T15:39:40.081331"
    },
    "collapsed": true
   },
   "outputs": [],
   "source": [
    "time = 20"
   ]
  },
  {
   "cell_type": "markdown",
   "metadata": {},
   "source": [
    "Those were easy. Now we have to make the lookup table, which is less trivial. It may not be immediately obvious what data structure we should use for this. The lookup table maps neighborhoods to updated site values, so we will use a dictionary which maps keys to values. "
   ]
  },
  {
   "cell_type": "markdown",
   "metadata": {},
   "source": [
    "The lookup table is defined by the CA rule number, following the Wolfram numbering convention. So first we need to convert our integer rule number to binary. We also need a list of the 8 possible neighborhoods given in lexicographical order. Since these will be the keys for our lookup table dictionary, they need to be tuples"
   ]
  },
  {
   "cell_type": "code",
   "execution_count": 7,
   "metadata": {
    "ExecuteTime": {
     "end_time": "2017-08-01T15:39:41.221311",
     "start_time": "2017-08-01T15:39:41.218623"
    },
    "collapsed": true
   },
   "outputs": [],
   "source": [
    "rule_number = 18"
   ]
  },
  {
   "cell_type": "code",
   "execution_count": 8,
   "metadata": {
    "ExecuteTime": {
     "end_time": "2017-08-01T15:39:41.650383",
     "start_time": "2017-08-01T15:39:41.645064"
    },
    "collapsed": true
   },
   "outputs": [],
   "source": [
    "neighborhoods = [(0,0,0), (0,0,1), (0,1,0), (0,1,1), (1,0,0), (1,0,1), (1,1,0), (1,1,1)]"
   ]
  },
  {
   "cell_type": "code",
   "execution_count": 9,
   "metadata": {
    "ExecuteTime": {
     "end_time": "2017-08-01T15:39:42.030338",
     "start_time": "2017-08-01T15:39:42.025177"
    }
   },
   "outputs": [
    {
     "name": "stdout",
     "output_type": "stream",
     "text": [
      "0b10010\n",
      "01001\n"
     ]
    }
   ],
   "source": [
    "# first we will try bin()\n",
    "print bin(rule_number)\n",
    "# cut off the fisrt two characters (0b), and flip the remaining string around so it is the proper order\n",
    "print bin(rule_number)[2:][::-1]"
   ]
  },
  {
   "cell_type": "markdown",
   "metadata": {},
   "source": [
    "Notice that the result is not 8 characters long. We need to pad it with zeros on the right so that all the neighborhoods have an output they map to. "
   ]
  },
  {
   "cell_type": "code",
   "execution_count": 10,
   "metadata": {
    "ExecuteTime": {
     "end_time": "2017-08-01T15:39:42.921260",
     "start_time": "2017-08-01T15:39:42.915288"
    }
   },
   "outputs": [
    {
     "name": "stdout",
     "output_type": "stream",
     "text": [
      "01001000\n"
     ]
    }
   ],
   "source": [
    "# A simple, but not Pythonic, first thing we could do is this\n",
    "in_binary_1 = bin(rule_number)[2:][::-1]\n",
    "binary_length = len(in_binary_1)\n",
    "if binary_length != 8:\n",
    "    padding = 8 - binary_length\n",
    "    in_binary_1 = in_binary_1 + '0'*padding\n",
    "print in_binary_1"
   ]
  },
  {
   "cell_type": "markdown",
   "metadata": {},
   "source": [
    "We can now build the lookup table dictionary"
   ]
  },
  {
   "cell_type": "code",
   "execution_count": 11,
   "metadata": {
    "ExecuteTime": {
     "end_time": "2017-08-01T15:39:43.732295",
     "start_time": "2017-08-01T15:39:43.725430"
    }
   },
   "outputs": [
    {
     "name": "stdout",
     "output_type": "stream",
     "text": [
      "(0, 1, 1) --> 0\n",
      "(0, 0, 0) --> 0\n",
      "(1, 1, 0) --> 0\n",
      "(1, 0, 0) --> 1\n",
      "(0, 1, 0) --> 0\n",
      "(0, 0, 1) --> 1\n",
      "(1, 1, 1) --> 0\n",
      "(1, 0, 1) --> 0\n"
     ]
    }
   ],
   "source": [
    "lookup_table_1 = {}\n",
    "for i in range(8):\n",
    "    key = neighborhoods[i]\n",
    "    val = in_binary_1[i]\n",
    "    lookup_table_1.update({key:val})\n",
    "for key, val in lookup_table_1.items():\n",
    "    print key, '-->', val"
   ]
  },
  {
   "cell_type": "markdown",
   "metadata": {},
   "source": [
    "We can do both of the above steps in a more Pythonic way using a try, except statement. This way we don't need to pad the binary conversion, since we know if there is an index error it would needed to be padded with 0. "
   ]
  },
  {
   "cell_type": "code",
   "execution_count": 12,
   "metadata": {
    "ExecuteTime": {
     "end_time": "2017-08-01T15:39:44.876410",
     "start_time": "2017-08-01T15:39:44.723538"
    }
   },
   "outputs": [
    {
     "ename": "IndexError",
     "evalue": "string index out of range",
     "output_type": "error",
     "traceback": [
      "\u001b[0;31m---------------------------------------------------------------------------\u001b[0m",
      "\u001b[0;31mIndexError\u001b[0m                                Traceback (most recent call last)",
      "\u001b[0;32m<ipython-input-12-d03a227d2c3a>\u001b[0m in \u001b[0;36m<module>\u001b[0;34m()\u001b[0m\n\u001b[1;32m      4\u001b[0m \u001b[0;32mfor\u001b[0m \u001b[0mi\u001b[0m \u001b[0;32min\u001b[0m \u001b[0mrange\u001b[0m\u001b[0;34m(\u001b[0m\u001b[0;36m8\u001b[0m\u001b[0;34m)\u001b[0m\u001b[0;34m:\u001b[0m\u001b[0;34m\u001b[0m\u001b[0m\n\u001b[1;32m      5\u001b[0m     \u001b[0mkey\u001b[0m \u001b[0;34m=\u001b[0m \u001b[0mneighborhoods\u001b[0m\u001b[0;34m[\u001b[0m\u001b[0mi\u001b[0m\u001b[0;34m]\u001b[0m\u001b[0;34m\u001b[0m\u001b[0m\n\u001b[0;32m----> 6\u001b[0;31m     \u001b[0mval\u001b[0m \u001b[0;34m=\u001b[0m \u001b[0min_binary_2\u001b[0m\u001b[0;34m[\u001b[0m\u001b[0mi\u001b[0m\u001b[0;34m]\u001b[0m\u001b[0;34m\u001b[0m\u001b[0m\n\u001b[0m\u001b[1;32m      7\u001b[0m     \u001b[0mlookup_table_2\u001b[0m\u001b[0;34m.\u001b[0m\u001b[0mupdate\u001b[0m\u001b[0;34m(\u001b[0m\u001b[0;34m{\u001b[0m\u001b[0mkey\u001b[0m\u001b[0;34m:\u001b[0m\u001b[0mval\u001b[0m\u001b[0;34m}\u001b[0m\u001b[0;34m)\u001b[0m\u001b[0;34m\u001b[0m\u001b[0m\n",
      "\u001b[0;31mIndexError\u001b[0m: string index out of range"
     ]
    }
   ],
   "source": [
    "# if we try to create the dictionary without padding we get an IndexError\n",
    "in_binary_2 = bin(rule_number)[2:][::-1]\n",
    "lookup_table_2 ={}\n",
    "for i in range(8):\n",
    "    key = neighborhoods[i]\n",
    "    val = in_binary_2[i]\n",
    "    lookup_table_2.update({key:val})"
   ]
  },
  {
   "cell_type": "code",
   "execution_count": 13,
   "metadata": {
    "ExecuteTime": {
     "end_time": "2017-08-01T15:39:45.173034",
     "start_time": "2017-08-01T15:39:45.163341"
    }
   },
   "outputs": [
    {
     "name": "stdout",
     "output_type": "stream",
     "text": [
      "(0, 1, 1) --> 0\n",
      "(0, 0, 0) --> 0\n",
      "(1, 1, 0) --> 0\n",
      "(1, 0, 0) --> 1\n",
      "(0, 1, 0) --> 0\n",
      "(0, 0, 1) --> 1\n",
      "(1, 1, 1) --> 0\n",
      "(1, 0, 1) --> 0\n"
     ]
    }
   ],
   "source": [
    "# use try, except statement to make val a 0 if the index runs over, where we had to pad before\n",
    "in_binary_2 = bin(rule_number)[2:][::-1]\n",
    "lookup_table_2 ={}\n",
    "for i in range(8):\n",
    "    key = neighborhoods[i]\n",
    "    try:\n",
    "        val = in_binary_2[i]\n",
    "    except IndexError:\n",
    "        val = '0'\n",
    "    lookup_table_2.update({key: val})\n",
    "for key, val in lookup_table_2.items():\n",
    "    print key, '-->', val"
   ]
  },
  {
   "cell_type": "markdown",
   "metadata": {},
   "source": [
    "Better still, let's use string formatting to convert the rule number to binary and automatically pad with 0s as needed, then use zip and dict to create the lookup table."
   ]
  },
  {
   "cell_type": "code",
   "execution_count": 14,
   "metadata": {
    "ExecuteTime": {
     "end_time": "2017-08-01T15:39:47.339829",
     "start_time": "2017-08-01T15:39:47.336099"
    }
   },
   "outputs": [
    {
     "name": "stdout",
     "output_type": "stream",
     "text": [
      "00010010\n"
     ]
    }
   ],
   "source": [
    "in_binary_3 = '{:{fill}{align}{width}b}'.format(rule_number, fill='0', align='>', width='8')\n",
    "print in_binary_3"
   ]
  },
  {
   "cell_type": "code",
   "execution_count": 15,
   "metadata": {
    "ExecuteTime": {
     "end_time": "2017-08-01T15:39:47.770923",
     "start_time": "2017-08-01T15:39:47.765230"
    }
   },
   "outputs": [
    {
     "name": "stdout",
     "output_type": "stream",
     "text": [
      "(0, 1, 1) --> 0\n",
      "(1, 1, 0) --> 0\n",
      "(1, 0, 0) --> 1\n",
      "(0, 0, 1) --> 1\n",
      "(1, 0, 1) --> 0\n",
      "(0, 0, 0) --> 0\n",
      "(0, 1, 0) --> 0\n",
      "(1, 1, 1) --> 0\n"
     ]
    }
   ],
   "source": [
    "# since the string formatting also gives the binary result in the opposite order of what we want, use the \n",
    "# reversed function in zip, so that it iterates through in the order we need\n",
    "lookup_table_3 = dict(zip(neighborhoods, reversed(in_binary_3)))\n",
    "\n",
    "for key, val in lookup_table_3.items():\n",
    "    print key, '-->', val"
   ]
  },
  {
   "cell_type": "code",
   "execution_count": null,
   "metadata": {
    "collapsed": true
   },
   "outputs": [],
   "source": []
  },
  {
   "cell_type": "markdown",
   "metadata": {},
   "source": [
    "We now have all the pieces we need, so let's put them together to make a spacetime field"
   ]
  },
  {
   "cell_type": "code",
   "execution_count": 16,
   "metadata": {
    "ExecuteTime": {
     "end_time": "2017-08-01T15:39:50.534158",
     "start_time": "2017-08-01T15:39:50.530958"
    },
    "collapsed": true
   },
   "outputs": [],
   "source": [
    "# spacetime field will be a list of lists, so that spacetime_field[t] is the lattice configuration at time t\n",
    "# initialize with the initial condition\n",
    "spacetime_field = [initial_condition_3]"
   ]
  },
  {
   "cell_type": "code",
   "execution_count": 17,
   "metadata": {
    "ExecuteTime": {
     "end_time": "2017-08-01T15:39:50.941117",
     "start_time": "2017-08-01T15:39:50.936368"
    }
   },
   "outputs": [
    {
     "name": "stdout",
     "output_type": "stream",
     "text": [
      "[[1, 0, 1, 0, 0, 1, 0, 0, 0, 0, 0, 0, 0, 0, 0, 1, 0, 1, 0, 1]]\n",
      "[1, 0, 1, 0, 0, 1, 0, 0, 0, 0, 0, 0, 0, 0, 0, 1, 0, 1, 0, 1]\n"
     ]
    }
   ],
   "source": [
    "print spacetime_field\n",
    "print spacetime_field[0]"
   ]
  },
  {
   "cell_type": "code",
   "execution_count": 18,
   "metadata": {
    "ExecuteTime": {
     "end_time": "2017-08-01T15:39:51.628399",
     "start_time": "2017-08-01T15:39:51.625222"
    },
    "collapsed": true
   },
   "outputs": [],
   "source": [
    "# for implementation of the update rule, we will need a variable to keep track of the current configuration\n",
    "\n",
    "# We have to be careful though to COPY the list, and not just use the equals sign\n",
    "current_configuration = initial_condition_3[:]"
   ]
  },
  {
   "cell_type": "code",
   "execution_count": 19,
   "metadata": {
    "ExecuteTime": {
     "end_time": "2017-08-01T15:39:52.202651",
     "start_time": "2017-08-01T15:39:52.199454"
    }
   },
   "outputs": [
    {
     "name": "stdout",
     "output_type": "stream",
     "text": [
      "[1, 0, 1, 0, 0, 1, 0, 0, 0, 0, 0, 0, 0, 0, 0, 1, 0, 1, 0, 1]\n"
     ]
    }
   ],
   "source": [
    "print current_configuration"
   ]
  },
  {
   "cell_type": "code",
   "execution_count": 20,
   "metadata": {
    "ExecuteTime": {
     "end_time": "2017-08-01T15:39:52.778797",
     "start_time": "2017-08-01T15:39:52.771242"
    }
   },
   "outputs": [
    {
     "name": "stdout",
     "output_type": "stream",
     "text": [
      "[0, 0, 0, 1, 1, 0, 1, 0, 0, 0, 0, 0, 0, 0, 1, 0, 0, 0, 0, 0]\n"
     ]
    }
   ],
   "source": [
    "# we will also need a new_configuration placeholder \n",
    "new_configuration = []\n",
    "# iterate through the current configuration, get the neighborhood, and apply the lookup table\n",
    "for i in range(len(current_configuration)):\n",
    "    \n",
    "    neighborhood = (current_configuration[(i-1)], \n",
    "                    current_configuration[i], \n",
    "                    current_configuration[(i+1)%length]) # use % for periodic boundary condition\n",
    "    \n",
    "    new_configuration.append(int(lookup_table_3[neighborhood]))\n",
    "print new_configuration"
   ]
  },
  {
   "cell_type": "code",
   "execution_count": 21,
   "metadata": {
    "ExecuteTime": {
     "end_time": "2017-08-01T15:39:53.706605",
     "start_time": "2017-08-01T15:39:53.696303"
    },
    "collapsed": true
   },
   "outputs": [],
   "source": [
    "# now just do the above for the given number of time steps\n",
    "for t in range(time):\n",
    "    new_configuration = []\n",
    "    for i in xrange(len(current_configuration)):\n",
    "        \n",
    "        neighborhood = (current_configuration[(i-1)], \n",
    "                        current_configuration[i], \n",
    "                        current_configuration[(i+1)%length])\n",
    "        \n",
    "        new_configuration.append(int(lookup_table_3[neighborhood]))\n",
    "    # update the current configuration    \n",
    "    current_configuration = new_configuration\n",
    "    # add the new configuration to the spacetime field\n",
    "    spacetime_field.append(new_configuration)"
   ]
  },
  {
   "cell_type": "markdown",
   "metadata": {},
   "source": [
    "Take a look out our spacetime field"
   ]
  },
  {
   "cell_type": "code",
   "execution_count": 22,
   "metadata": {
    "ExecuteTime": {
     "end_time": "2017-08-01T15:39:54.731419",
     "start_time": "2017-08-01T15:39:54.727013"
    }
   },
   "outputs": [
    {
     "name": "stdout",
     "output_type": "stream",
     "text": [
      "[1, 0, 1, 0, 0, 1, 0, 0, 0, 0, 0, 0, 0, 0, 0, 1, 0, 1, 0, 1]\n",
      "[0, 0, 0, 1, 1, 0, 1, 0, 0, 0, 0, 0, 0, 0, 1, 0, 0, 0, 0, 0]\n",
      "[0, 0, 1, 0, 0, 0, 0, 1, 0, 0, 0, 0, 0, 1, 0, 1, 0, 0, 0, 0]\n",
      "[0, 1, 0, 1, 0, 0, 1, 0, 1, 0, 0, 0, 1, 0, 0, 0, 1, 0, 0, 0]\n",
      "[1, 0, 0, 0, 1, 1, 0, 0, 0, 1, 0, 1, 0, 1, 0, 1, 0, 1, 0, 0]\n",
      "[0, 1, 0, 1, 0, 0, 1, 0, 1, 0, 0, 0, 0, 0, 0, 0, 0, 0, 1, 1]\n",
      "[0, 0, 0, 0, 1, 1, 0, 0, 0, 1, 0, 0, 0, 0, 0, 0, 0, 1, 0, 0]\n",
      "[0, 0, 0, 1, 0, 0, 1, 0, 1, 0, 1, 0, 0, 0, 0, 0, 1, 0, 1, 0]\n",
      "[0, 0, 1, 0, 1, 1, 0, 0, 0, 0, 0, 1, 0, 0, 0, 1, 0, 0, 0, 1]\n",
      "[1, 1, 0, 0, 0, 0, 1, 0, 0, 0, 1, 0, 1, 0, 1, 0, 1, 0, 1, 0]\n",
      "[0, 0, 1, 0, 0, 1, 0, 1, 0, 1, 0, 0, 0, 0, 0, 0, 0, 0, 0, 0]\n",
      "[0, 1, 0, 1, 1, 0, 0, 0, 0, 0, 1, 0, 0, 0, 0, 0, 0, 0, 0, 0]\n",
      "[1, 0, 0, 0, 0, 1, 0, 0, 0, 1, 0, 1, 0, 0, 0, 0, 0, 0, 0, 0]\n",
      "[0, 1, 0, 0, 1, 0, 1, 0, 1, 0, 0, 0, 1, 0, 0, 0, 0, 0, 0, 1]\n",
      "[0, 0, 1, 1, 0, 0, 0, 0, 0, 1, 0, 1, 0, 1, 0, 0, 0, 0, 1, 0]\n",
      "[0, 1, 0, 0, 1, 0, 0, 0, 1, 0, 0, 0, 0, 0, 1, 0, 0, 1, 0, 1]\n",
      "[0, 0, 1, 1, 0, 1, 0, 1, 0, 1, 0, 0, 0, 1, 0, 1, 1, 0, 0, 0]\n",
      "[0, 1, 0, 0, 0, 0, 0, 0, 0, 0, 1, 0, 1, 0, 0, 0, 0, 1, 0, 0]\n",
      "[1, 0, 1, 0, 0, 0, 0, 0, 0, 1, 0, 0, 0, 1, 0, 0, 1, 0, 1, 0]\n",
      "[0, 0, 0, 1, 0, 0, 0, 0, 1, 0, 1, 0, 1, 0, 1, 1, 0, 0, 0, 0]\n",
      "[0, 0, 1, 0, 1, 0, 0, 1, 0, 0, 0, 0, 0, 0, 0, 0, 1, 0, 0, 0]\n"
     ]
    }
   ],
   "source": [
    "for config in spacetime_field:\n",
    "    print config"
   ]
  },
  {
   "cell_type": "markdown",
   "metadata": {},
   "source": [
    "Finally, make a spacetime diagram"
   ]
  },
  {
   "cell_type": "code",
   "execution_count": 23,
   "metadata": {
    "ExecuteTime": {
     "end_time": "2017-08-01T15:39:58.091678",
     "start_time": "2017-08-01T15:39:57.471049"
    }
   },
   "outputs": [
    {
     "data": {
      "image/png": "[encoded data removed]",
      "text/plain": [
       "<matplotlib.figure.Figure at 0x1056bc310>"
      ]
     },
     "metadata": {},
     "output_type": "display_data"
    }
   ],
   "source": [
    "plt.figure(figsize=(12,12))\n",
    "plt.imshow(spacetime_field, cmap=plt.cm.Greys, interpolation='nearest')\n",
    "plt.show()"
   ]
  },
  {
   "cell_type": "markdown",
   "metadata": {
    "collapsed": true
   },
   "source": [
    "Looks like rule 18!"
   ]
  },
  {
   "cell_type": "code",
   "execution_count": null,
   "metadata": {
    "collapsed": true
   },
   "outputs": [],
   "source": []
  },
  {
   "cell_type": "code",
   "execution_count": null,
   "metadata": {
    "collapsed": true
   },
   "outputs": [],
   "source": []
  },
  {
   "cell_type": "markdown",
   "metadata": {},
   "source": [
    "We now collect all the final results so that we can run everything in a single cell (like a .py script) to chose our parameters and create the corresponding spacetime diagram. \n",
    "\n",
    "To maximize spaghettiness and make it look gross, I'm going to use the non-pythonic implementations from above, so if you are skipping down to this part be sure to go back up and see some better code."
   ]
  },
  {
   "cell_type": "code",
   "execution_count": 2,
   "metadata": {
    "ExecuteTime": {
     "end_time": "2017-08-01T17:13:11.212858",
     "start_time": "2017-08-01T17:13:10.421599"
    }
   },
   "outputs": [
    {
     "data": {
      "image/png": "[encoded data removed]",
      "text/plain": [
       "<matplotlib.figure.Figure at 0x10f25a4d0>"
      ]
     },
     "metadata": {},
     "output_type": "display_data"
    }
   ],
   "source": [
    "rule_number = 110\n",
    "length = 100\n",
    "time = 100 \n",
    "\n",
    "# make the initial condition\n",
    "initial_condition = []\n",
    "for i in range(length):\n",
    "    initial_condition.append(random.randint(0,1))\n",
    "\n",
    "# create list of neighborhood tuples in lex. order\n",
    "neighborhoods = [(0,0,0), (0,0,1), (0,1,0), (0,1,1), (1,0,0), (1,0,1), (1,1,0), (1,1,1)]\n",
    "\n",
    "# convert the rule number to binary and padd with 0s as needed\n",
    "in_binary = bin(rule_number)[2:][::-1]\n",
    "binary_length = len(in_binary)\n",
    "if binary_length != 8:\n",
    "    padding = 8 - binary_length\n",
    "    in_binary = in_binary + '0'*padding\n",
    "\n",
    "# create the lookup table dictionary\n",
    "lookup_table = {}\n",
    "for i in range(8):\n",
    "    key = neighborhoods[i]\n",
    "    val = in_binary[i]\n",
    "    lookup_table.update({key:val})\n",
    "    \n",
    "# initialize spacetime field and current configuration\n",
    "spacetime_field = [initial_condition]\n",
    "current_configuration = initial_condition[:]\n",
    "\n",
    "# apply the lookup table to evolve the CA for the given number of time steps\n",
    "for t in range(time):\n",
    "    new_configuration = []\n",
    "    for i in range(len(current_configuration)):\n",
    "        \n",
    "        neighborhood = (current_configuration[(i-1)%length], \n",
    "                        current_configuration[i], \n",
    "                        current_configuration[(i+1)%length])\n",
    "        \n",
    "        new_configuration.append(int(lookup_table[neighborhood]))\n",
    "        \n",
    "    current_configuration = new_configuration\n",
    "    spacetime_field.append(new_configuration)\n",
    "    \n",
    "# plot the spacetime field diagram\n",
    "plt.figure(figsize=(12,12))\n",
    "plt.imshow(spacetime_field, cmap=plt.cm.Greys, interpolation='nearest')\n",
    "plt.show()"
   ]
  },
  {
   "cell_type": "code",
   "execution_count": null,
   "metadata": {
    "collapsed": true
   },
   "outputs": [],
   "source": []
  }
 ],
 "metadata": {
  "kernelspec": {
   "display_name": "Python 3",
   "language": "python",
   "name": "python3"
  },
  "language_info": {
   "codemirror_mode": {
    "name": "ipython",
    "version": 3
   },
   "file_extension": ".py",
   "mimetype": "text/x-python",
   "name": "python",
   "nbconvert_exporter": "python",
   "pygments_lexer": "ipython3",
   "version": "3.6.4"
  }
 },
 "nbformat": 4,
 "nbformat_minor": 1
}
