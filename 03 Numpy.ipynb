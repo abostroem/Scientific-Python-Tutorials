{
 "cells": [
  {
   "cell_type": "code",
   "execution_count": 1,
   "metadata": {
    "ExecuteTime": {
     "end_time": "2017-08-23T14:02:37.934411",
     "start_time": "2017-08-23T14:02:37.926148"
    },
    "collapsed": true
   },
   "outputs": [],
   "source": [
    "import os\n",
    "import sys\n",
    "module_path = os.path.abspath(os.path.join('../../..'))\n",
    "if module_path not in sys.path:\n",
    "    sys.path.append(module_path)"
   ]
  },
  {
   "cell_type": "code",
   "execution_count": 2,
   "metadata": {
    "ExecuteTime": {
     "end_time": "2017-08-23T14:02:51.078871",
     "start_time": "2017-08-23T14:02:49.996468"
    }
   },
   "outputs": [
    {
     "ename": "ModuleNotFoundError",
     "evalue": "No module named 'numpy'",
     "output_type": "error",
     "traceback": [
      "\u001b[1;31m---------------------------------------------------------------------------\u001b[0m",
      "\u001b[1;31mModuleNotFoundError\u001b[0m                       Traceback (most recent call last)",
      "\u001b[1;32m<ipython-input-2-9a8f6f40884a>\u001b[0m in \u001b[0;36m<module>\u001b[1;34m()\u001b[0m\n\u001b[1;32m----> 1\u001b[1;33m \u001b[1;32mimport\u001b[0m \u001b[0mnumpy\u001b[0m \u001b[1;32mas\u001b[0m \u001b[0mnp\u001b[0m\u001b[1;33m\u001b[0m\u001b[0m\n\u001b[0m\u001b[0;32m      2\u001b[0m \u001b[1;32mimport\u001b[0m \u001b[0mrandom\u001b[0m\u001b[1;33m\u001b[0m\u001b[0m\n\u001b[0;32m      3\u001b[0m \u001b[1;32mfrom\u001b[0m \u001b[0mmatplotlib\u001b[0m \u001b[1;32mimport\u001b[0m \u001b[0mpyplot\u001b[0m \u001b[1;32mas\u001b[0m \u001b[0mplt\u001b[0m\u001b[1;33m\u001b[0m\u001b[0m\n\u001b[0;32m      4\u001b[0m \u001b[1;32mfrom\u001b[0m \u001b[0mspacetime\u001b[0m\u001b[1;33m.\u001b[0m\u001b[0mca_simulators\u001b[0m\u001b[1;33m.\u001b[0m\u001b[0mCAs\u001b[0m \u001b[1;32mimport\u001b[0m \u001b[1;33m*\u001b[0m\u001b[1;33m\u001b[0m\u001b[0m\n",
      "\u001b[1;31mModuleNotFoundError\u001b[0m: No module named 'numpy'"
     ]
    }
   ],
   "source": [
    "import numpy as np\n",
    "import random\n",
    "from matplotlib import pyplot as plt\n",
    "from spacetime.ca_simulators.CAs import *"
   ]
  },
  {
   "cell_type": "code",
   "execution_count": 5,
   "metadata": {},
   "outputs": [
    {
     "name": "stdout",
     "output_type": "stream",
     "text": [
      "[3, 4]\n"
     ]
    }
   ],
   "source": [
    "x = [0,1,2,3,4,5,6]\n",
    "print(x[3:5])"
   ]
  },
  {
   "cell_type": "code",
   "execution_count": 3,
   "metadata": {
    "collapsed": true
   },
   "outputs": [],
   "source": [
    "def random_string(length):\n",
    "    '''\n",
    "    Returns a random binary string of the given length.\n",
    "    '''\n",
    "    return [random.randint(0,1) for _ in range(length)]"
   ]
  },
  {
   "cell_type": "code",
   "execution_count": 52,
   "metadata": {
    "collapsed": true
   },
   "outputs": [],
   "source": [
    "def lookup_dict(rule_number):\n",
    "    '''\n",
    "    Returns a dictionary which maps ECA neighborhoods to output values. \n",
    "    Uses Wolfram rule number convention.\n",
    "    '''\n",
    "    neighborhoods = [(0,0,0), (0,0,1), (0,1,0), (0,1,1), (1,0,0), (1,0,1), (1,1,0), (1,1,1)]\n",
    "    in_binary = '{:{fill}{align}{width}b}'.format(rule_number, \n",
    "                                                  fill='0', \n",
    "                                                  align='>', \n",
    "                                                  width='8')\n",
    "    \n",
    "    return dict(zip(neighborhoods, reversed(map(int,in_binary))))"
   ]
  },
  {
   "cell_type": "code",
   "execution_count": 5,
   "metadata": {
    "collapsed": true
   },
   "outputs": [],
   "source": [
    "class old_ECA(object):\n",
    "    \n",
    "    def __init__(self, rule_number, initial_condition):\n",
    "        self.lookup_table = lookup_table(rule_number)\n",
    "        self.initial = initial_condition\n",
    "        self.spacetime = [initial_condition]\n",
    "        self.current_configuration = initial_condition[:]\n",
    "        self.length = len(initial_condition)\n",
    "\n",
    "    def evolve(self, time):\n",
    "        for t in range(time):\n",
    "            new_configuration = []\n",
    "            for i in range(self.length):\n",
    "\n",
    "                neighborhood = (self.current_configuration[(i-1)], \n",
    "                                self.current_configuration[i], \n",
    "                                self.current_configuration[(i+1)%self.length])\n",
    "\n",
    "                new_configuration.append(self.lookup_table[neighborhood])\n",
    "\n",
    "            self.current_configuration = new_configuration\n",
    "            self.spacetime.append(new_configuration)"
   ]
  },
  {
   "cell_type": "code",
   "execution_count": 6,
   "metadata": {
    "collapsed": true
   },
   "outputs": [],
   "source": [
    "def spacetime_diagram(spacetime_field, size=12, colors=plt.cm.Greys):\n",
    "    '''\n",
    "    \n",
    "    '''\n",
    "    plt.figure(figsize=(size,size))\n",
    "    plt.imshow(spacetime_field, cmap=colors, interpolation='nearest')\n",
    "    plt.show()"
   ]
  },
  {
   "cell_type": "code",
   "execution_count": 7,
   "metadata": {
    "collapsed": true
   },
   "outputs": [],
   "source": [
    "ca = ECA(110, random_string(100))\n",
    "ca.evolve(100)"
   ]
  },
  {
   "cell_type": "code",
   "execution_count": 8,
   "metadata": {},
   "outputs": [
    {
     "data": {
      "image/png": "[encoded data removed]",
      "text/plain": [
       "<matplotlib.figure.Figure at 0x7f32ee5696d0>"
      ]
     },
     "metadata": {},
     "output_type": "display_data"
    }
   ],
   "source": [
    "spacetime_diagram(ca.spacetime, size=10, colors=plt.cm.Greys)"
   ]
  },
  {
   "cell_type": "code",
   "execution_count": null,
   "metadata": {
    "collapsed": true
   },
   "outputs": [],
   "source": []
  },
  {
   "cell_type": "code",
   "execution_count": 9,
   "metadata": {
    "collapsed": true
   },
   "outputs": [],
   "source": [
    "def python_addition(array):\n",
    "    return [element + 1 for element in array]"
   ]
  },
  {
   "cell_type": "code",
   "execution_count": 10,
   "metadata": {
    "collapsed": true
   },
   "outputs": [],
   "source": [
    "def numpy_addition(array):\n",
    "    return array + 1"
   ]
  },
  {
   "cell_type": "code",
   "execution_count": 11,
   "metadata": {
    "collapsed": true
   },
   "outputs": [],
   "source": [
    "b = range(100000)\n",
    "a = np.array(b)"
   ]
  },
  {
   "cell_type": "code",
   "execution_count": 16,
   "metadata": {
    "collapsed": true
   },
   "outputs": [],
   "source": [
    "def python_add(a, b):\n",
    "    return [i + j for (i,j) in zip(a,b)]"
   ]
  },
  {
   "cell_type": "code",
   "execution_count": 17,
   "metadata": {
    "collapsed": true
   },
   "outputs": [],
   "source": [
    "def numpy_add(a,b):\n",
    "    return a+b"
   ]
  },
  {
   "cell_type": "code",
   "execution_count": null,
   "metadata": {
    "collapsed": true
   },
   "outputs": [],
   "source": []
  },
  {
   "cell_type": "code",
   "execution_count": 23,
   "metadata": {},
   "outputs": [
    {
     "name": "stdout",
     "output_type": "stream",
     "text": [
      "[1, 2, 3, 4, 5, 6]\n",
      "[5 7 9]\n"
     ]
    }
   ],
   "source": [
    "x = [1,2,3]\n",
    "y = [4,5,6]\n",
    "print x+y\n",
    "print np.array(x) + np.array(y)"
   ]
  },
  {
   "cell_type": "code",
   "execution_count": null,
   "metadata": {
    "collapsed": true
   },
   "outputs": [],
   "source": []
  },
  {
   "cell_type": "code",
   "execution_count": null,
   "metadata": {
    "collapsed": true
   },
   "outputs": [],
   "source": []
  },
  {
   "cell_type": "code",
   "execution_count": 19,
   "metadata": {
    "collapsed": true
   },
   "outputs": [],
   "source": [
    "a = np.random.rand(1000)\n",
    "b = np.random.rand(1000)"
   ]
  },
  {
   "cell_type": "code",
   "execution_count": 20,
   "metadata": {},
   "outputs": [
    {
     "name": "stdout",
     "output_type": "stream",
     "text": [
      "The slowest run took 6.14 times longer than the fastest. This could mean that an intermediate result is being cached.\n",
      "1000 loops, best of 3: 210 µs per loop\n"
     ]
    }
   ],
   "source": [
    "%timeit python_add(a,b)"
   ]
  },
  {
   "cell_type": "code",
   "execution_count": 21,
   "metadata": {},
   "outputs": [
    {
     "name": "stdout",
     "output_type": "stream",
     "text": [
      "The slowest run took 57.15 times longer than the fastest. This could mean that an intermediate result is being cached.\n",
      "100000 loops, best of 3: 1.32 µs per loop\n"
     ]
    }
   ],
   "source": [
    "%timeit numpy_add(a,b)"
   ]
  },
  {
   "cell_type": "code",
   "execution_count": null,
   "metadata": {
    "collapsed": true
   },
   "outputs": [],
   "source": []
  },
  {
   "cell_type": "code",
   "execution_count": 12,
   "metadata": {},
   "outputs": [
    {
     "name": "stdout",
     "output_type": "stream",
     "text": [
      "100 loops, best of 3: 4.13 ms per loop\n"
     ]
    }
   ],
   "source": [
    "%timeit python_addition(b)"
   ]
  },
  {
   "cell_type": "code",
   "execution_count": 29,
   "metadata": {},
   "outputs": [
    {
     "name": "stdout",
     "output_type": "stream",
     "text": [
      "50000 loops, best of 5: 56.8 µs per loop\n"
     ]
    }
   ],
   "source": [
    "%timeit -n 50000 -r 5 a + 1"
   ]
  },
  {
   "cell_type": "code",
   "execution_count": 15,
   "metadata": {},
   "outputs": [
    {
     "name": "stdout",
     "output_type": "stream",
     "text": [
      "The slowest run took 5.54 times longer than the fastest. This could mean that an intermediate result is being cached.\n",
      "10000 loops, best of 3: 54.8 µs per loop\n"
     ]
    }
   ],
   "source": [
    "%timeit numpy_addition(a)"
   ]
  },
  {
   "cell_type": "code",
   "execution_count": 43,
   "metadata": {
    "collapsed": true
   },
   "outputs": [],
   "source": [
    "def add(a):\n",
    "    return a + 1"
   ]
  },
  {
   "cell_type": "code",
   "execution_count": 44,
   "metadata": {},
   "outputs": [
    {
     "name": "stdout",
     "output_type": "stream",
     "text": [
      "100 loops, best of 3: 11.4 ms per loop\n"
     ]
    }
   ],
   "source": [
    "%timeit map(add, b)"
   ]
  },
  {
   "cell_type": "code",
   "execution_count": 42,
   "metadata": {},
   "outputs": [
    {
     "name": "stdout",
     "output_type": "stream",
     "text": [
      "['a' '3' '5.6']\n",
      "|S3\n"
     ]
    }
   ],
   "source": [
    "l = ['a', 3, 5.6]\n",
    "print np.array(l)\n",
    "print np.array(l).dtype"
   ]
  },
  {
   "cell_type": "code",
   "execution_count": null,
   "metadata": {
    "collapsed": true
   },
   "outputs": [],
   "source": []
  },
  {
   "cell_type": "code",
   "execution_count": 32,
   "metadata": {},
   "outputs": [
    {
     "data": {
      "text/plain": [
       "numpy.ndarray"
      ]
     },
     "execution_count": 32,
     "metadata": {},
     "output_type": "execute_result"
    }
   ],
   "source": [
    "type(a)"
   ]
  },
  {
   "cell_type": "code",
   "execution_count": 33,
   "metadata": {},
   "outputs": [
    {
     "name": "stdout",
     "output_type": "stream",
     "text": [
      "int64\n"
     ]
    }
   ],
   "source": [
    "print a.dtype"
   ]
  },
  {
   "cell_type": "code",
   "execution_count": 24,
   "metadata": {
    "collapsed": true
   },
   "outputs": [],
   "source": [
    "a2 = np.array([1,2,3], dtype=np.uint8)"
   ]
  },
  {
   "cell_type": "code",
   "execution_count": 25,
   "metadata": {},
   "outputs": [
    {
     "name": "stdout",
     "output_type": "stream",
     "text": [
      "1\n"
     ]
    }
   ],
   "source": [
    "print a2[0]"
   ]
  },
  {
   "cell_type": "code",
   "execution_count": 26,
   "metadata": {},
   "outputs": [
    {
     "name": "stdout",
     "output_type": "stream",
     "text": [
      "2\n",
      "255\n"
     ]
    }
   ],
   "source": [
    "print a2[1]\n",
    "a2[1] = -1\n",
    "print a2[1]"
   ]
  },
  {
   "cell_type": "code",
   "execution_count": null,
   "metadata": {
    "collapsed": true
   },
   "outputs": [],
   "source": []
  },
  {
   "cell_type": "code",
   "execution_count": 29,
   "metadata": {
    "collapsed": true
   },
   "outputs": [],
   "source": [
    "lookup = lookup_table(18, 2, 1)"
   ]
  },
  {
   "cell_type": "code",
   "execution_count": 30,
   "metadata": {},
   "outputs": [
    {
     "name": "stdout",
     "output_type": "stream",
     "text": [
      "<type 'numpy.ndarray'>\n",
      "(2, 2, 2)\n",
      "8\n",
      "2\n"
     ]
    }
   ],
   "source": [
    "print type(lookup)\n",
    "print np.shape(lookup)\n",
    "print np.size(lookup)\n",
    "print len(lookup)"
   ]
  },
  {
   "cell_type": "code",
   "execution_count": 74,
   "metadata": {},
   "outputs": [
    {
     "name": "stdout",
     "output_type": "stream",
     "text": [
      "[0 1 0 0]\n",
      "[1 0 0 0]\n"
     ]
    }
   ],
   "source": [
    "for i in lookup:\n",
    "    print i.flatten()"
   ]
  },
  {
   "cell_type": "code",
   "execution_count": 34,
   "metadata": {},
   "outputs": [
    {
     "name": "stdout",
     "output_type": "stream",
     "text": [
      "0\n"
     ]
    }
   ],
   "source": [
    "print lookup[(0,0,0)]"
   ]
  },
  {
   "cell_type": "code",
   "execution_count": 37,
   "metadata": {},
   "outputs": [
    {
     "name": "stdout",
     "output_type": "stream",
     "text": [
      "[0 0 0 1 1]\n"
     ]
    }
   ],
   "source": [
    "print lookup[np.array([0,0,1,0,1]), [1,1,1,0,0], (0,0,0,1,0)]"
   ]
  },
  {
   "cell_type": "code",
   "execution_count": 48,
   "metadata": {},
   "outputs": [
    {
     "name": "stdout",
     "output_type": "stream",
     "text": [
      "0b10010\n",
      "10010\n"
     ]
    }
   ],
   "source": [
    "print bin(18)\n",
    "print '{:b}'.format(18)"
   ]
  },
  {
   "cell_type": "code",
   "execution_count": 44,
   "metadata": {
    "collapsed": true
   },
   "outputs": [],
   "source": [
    "def np_lookup(rule_number):\n",
    "    neighborhoods = [(0,0,0), (0,0,1), (0,1,0), (0,1,1), (1,0,0), (1,0,1), (1,1,0), (1,1,1)]\n",
    "    in_binary = '{:{fill}{align}{width}b}'.format(rule_number, \n",
    "                                                  fill='0', \n",
    "                                                  align='>', \n",
    "                                                  width='8')\n",
    "    table = np.empty((2,2,2), dtype=np.uint8)\n",
    "    for inp, outp in zip(neighborhoods, reversed(map(int,in_binary))):\n",
    "        table[inp] = outp\n",
    "    return table"
   ]
  },
  {
   "cell_type": "code",
   "execution_count": 45,
   "metadata": {},
   "outputs": [
    {
     "name": "stdout",
     "output_type": "stream",
     "text": [
      "[0 0 0 1 1]\n"
     ]
    }
   ],
   "source": [
    "print np_lookup(18)[np.array([0,0,1,0,1]), [1,1,1,0,0], (0,0,0,1,0)]"
   ]
  },
  {
   "cell_type": "code",
   "execution_count": 61,
   "metadata": {
    "collapsed": true
   },
   "outputs": [],
   "source": [
    "class new_ECA(object):\n",
    "    \n",
    "    def __init__(self, rule_number, initial_condition):\n",
    "        self.lookup_table = lookup_dict(rule_number)\n",
    "        self.initial = np.array(initial_condition, dtype=np.uint8)\n",
    "        self.spacetime = np.copy(self.initial)[np.newaxis,...]\n",
    "        self.current_configuration = np.copy(initial_condition).astype(np.uint8)\n",
    "        self.length = len(initial_condition)\n",
    "\n",
    "    def evolve_1(self, time):\n",
    "        new_spacetime = np.empty((time, self.length), dtype=np.uint8)\n",
    "        for t in range(time):\n",
    "            new_configuration = np.empty(self.length, dtype=np.uint8)\n",
    "            for i in range(self.length):\n",
    "                neighborhood = (self.current_configuration[(i-1)], \n",
    "                                self.current_configuration[i], \n",
    "                                self.current_configuration[(i+1)%self.length])\n",
    "\n",
    "                new_configuration[i] = self.lookup_table[neighborhood]\n",
    "            self.current_configuration = new_configuration\n",
    "            new_spacetime[t] = self.current_configuration\n",
    "\n",
    "        self.spacetime = np.concatenate((self.spacetime, new_spacetime))\n",
    "        \n",
    "    def evolve_2(self, time):\n",
    "        new_spacetime = np.empty((time, self.length), dtype=np.uint8)\n",
    "        current = self.current_configuration\n",
    "        table = self.lookup_table\n",
    "        length = self.length\n",
    "        for t in range(time):\n",
    "            new_configuration = np.empty(length, dtype=np.uint8)\n",
    "            for i in range(self.length):\n",
    "                neighborhood = (current[(i-1)], \n",
    "                                current[i], \n",
    "                                current[(i+1)%length])\n",
    "\n",
    "                new_configuration[i] = table[neighborhood]\n",
    "            current = new_configuration\n",
    "            new_spacetime[t] = current\n",
    "        self.current_configuration = current\n",
    "        self.spacetime = np.concatenate((self.spacetime, new_spacetime))"
   ]
  },
  {
   "cell_type": "code",
   "execution_count": 54,
   "metadata": {
    "collapsed": true
   },
   "outputs": [],
   "source": [
    "test = new_ECA(18, random_string(10))"
   ]
  },
  {
   "cell_type": "code",
   "execution_count": 55,
   "metadata": {},
   "outputs": [
    {
     "name": "stdout",
     "output_type": "stream",
     "text": [
      "[0 1 1 0 0 0 0 0 0 1]\n",
      "[0 0 0 1 0 0 0 0 1 0]\n"
     ]
    }
   ],
   "source": [
    "print test.current_configuration\n",
    "test.evolve(1)\n",
    "print test.current_configuration"
   ]
  },
  {
   "cell_type": "code",
   "execution_count": 56,
   "metadata": {},
   "outputs": [
    {
     "name": "stdout",
     "output_type": "stream",
     "text": [
      "[[0 1 1 0 0 0 0 0 0 1]\n",
      " [0 0 0 1 0 0 0 0 1 0]]\n"
     ]
    }
   ],
   "source": [
    "print test.spacetime"
   ]
  },
  {
   "cell_type": "code",
   "execution_count": null,
   "metadata": {
    "collapsed": true
   },
   "outputs": [],
   "source": []
  },
  {
   "cell_type": "code",
   "execution_count": 59,
   "metadata": {},
   "outputs": [
    {
     "name": "stdout",
     "output_type": "stream",
     "text": [
      "1 loop, best of 3: 6.53 s per loop\n"
     ]
    }
   ],
   "source": [
    "test = new_ECA(110, random_string(1000))\n",
    "%timeit test.evolve_1(1000)"
   ]
  },
  {
   "cell_type": "code",
   "execution_count": 62,
   "metadata": {},
   "outputs": [
    {
     "name": "stdout",
     "output_type": "stream",
     "text": [
      "1 loop, best of 3: 6.03 s per loop\n"
     ]
    }
   ],
   "source": [
    "test = new_ECA(110, random_string(1000))\n",
    "%timeit test.evolve_2(1000)"
   ]
  },
  {
   "cell_type": "code",
   "execution_count": null,
   "metadata": {
    "collapsed": true
   },
   "outputs": [],
   "source": []
  },
  {
   "cell_type": "code",
   "execution_count": null,
   "metadata": {
    "collapsed": true
   },
   "outputs": [],
   "source": []
  },
  {
   "cell_type": "code",
   "execution_count": 67,
   "metadata": {},
   "outputs": [
    {
     "name": "stdout",
     "output_type": "stream",
     "text": [
      "[1 1 1]\n",
      "None\n"
     ]
    }
   ],
   "source": [
    "print np.copy([1,1,1])\n",
    "print np.copy(None)"
   ]
  },
  {
   "cell_type": "code",
   "execution_count": 77,
   "metadata": {},
   "outputs": [
    {
     "name": "stdout",
     "output_type": "stream",
     "text": [
      "(3,)\n",
      "(1, 3)\n"
     ]
    }
   ],
   "source": [
    "a = np.array([1,2,3])\n",
    "print np.shape(a)\n",
    "print np.shape(a[np.newaxis,...])"
   ]
  },
  {
   "cell_type": "code",
   "execution_count": 78,
   "metadata": {},
   "outputs": [
    {
     "name": "stdout",
     "output_type": "stream",
     "text": [
      "[1 2 3]\n",
      "[[1 2 3]]\n"
     ]
    }
   ],
   "source": [
    "print a\n",
    "print a[np.newaxis, :]"
   ]
  },
  {
   "cell_type": "code",
   "execution_count": 79,
   "metadata": {},
   "outputs": [
    {
     "name": "stdout",
     "output_type": "stream",
     "text": [
      "1\n",
      "[1 2 3]\n"
     ]
    }
   ],
   "source": [
    "print a[0]\n",
    "print a[np.newaxis,:][0]"
   ]
  },
  {
   "cell_type": "code",
   "execution_count": null,
   "metadata": {
    "collapsed": true
   },
   "outputs": [],
   "source": []
  }
 ],
 "metadata": {
  "kernelspec": {
   "display_name": "Python 3",
   "language": "python",
   "name": "python3"
  },
  "language_info": {
   "codemirror_mode": {
    "name": "ipython",
    "version": 3
   },
   "file_extension": ".py",
   "mimetype": "text/x-python",
   "name": "python",
   "nbconvert_exporter": "python",
   "pygments_lexer": "ipython3",
   "version": "3.6.2"
  }
 },
 "nbformat": 4,
 "nbformat_minor": 1
}
